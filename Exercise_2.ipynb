{
  "nbformat": 4,
  "nbformat_minor": 0,
  "metadata": {
    "colab": {
      "provenance": []
    },
    "kernelspec": {
      "name": "python3",
      "display_name": "Python 3"
    },
    "language_info": {
      "name": "python"
    }
  },
  "cells": [
    {
      "cell_type": "markdown",
      "source": [
        "# Exercice 2"
      ],
      "metadata": {
        "id": "sB_3xZXmSy5m"
      }
    },
    {
      "cell_type": "markdown",
      "source": [
        "Write a function (named even_numbers(list1)) that takes a list of integers as input and returns a new list\n",
        "containing only the even numbers from the input list."
      ],
      "metadata": {
        "id": "0p7p89reTVJw"
      }
    },
    {
      "cell_type": "code",
      "execution_count": 4,
      "metadata": {
        "id": "MJsKg3IJQfEv"
      },
      "outputs": [],
      "source": [
        "def  even_numbers(list1):\n",
        "  return[i for i in list1 if i%2==0]"
      ]
    },
    {
      "cell_type": "code",
      "source": [
        "print(even_numbers([1, 2, 3, 4, 5, 6]))\n"
      ],
      "metadata": {
        "colab": {
          "base_uri": "https://localhost:8080/"
        },
        "id": "6udgQZN3TJsb",
        "outputId": "fb3e947b-5401-4085-ff55-c1dba39595af"
      },
      "execution_count": 5,
      "outputs": [
        {
          "output_type": "stream",
          "name": "stdout",
          "text": [
            "[2, 4, 6]\n"
          ]
        }
      ]
    },
    {
      "cell_type": "markdown",
      "source": [
        "Write a function (named common_elements(list1, list2)) that takes two lists as input and returns a new list\n",
        "containing only the elements that are common to both input lists.\n"
      ],
      "metadata": {
        "id": "J_x56zKuTZZe"
      }
    },
    {
      "cell_type": "code",
      "source": [
        "def common_elements(list1, list2):\n",
        "  res=[]\n",
        "  for i in list1:\n",
        "    if i in list2:\n",
        "      res.append(i)\n",
        "\n",
        "  return res"
      ],
      "metadata": {
        "id": "boetGA2UTS-H"
      },
      "execution_count": 8,
      "outputs": []
    },
    {
      "cell_type": "code",
      "source": [
        "list1 = [1, 2, 3, 4, 5]\n",
        "list2 = [3, 4, 5, 6, 7]\n",
        "common_list = common_elements(list1, list2)\n",
        "print(common_list)"
      ],
      "metadata": {
        "colab": {
          "base_uri": "https://localhost:8080/"
        },
        "id": "dhvwF92AThf6",
        "outputId": "b119cc27-0ee8-4857-b063-a8285970acea"
      },
      "execution_count": 9,
      "outputs": [
        {
          "output_type": "stream",
          "name": "stdout",
          "text": [
            "[3, 4, 5]\n"
          ]
        }
      ]
    }
  ]
}